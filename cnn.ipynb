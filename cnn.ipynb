{
 "cells": [
  {
   "cell_type": "code",
   "id": "initial_id",
   "metadata": {
    "ExecuteTime": {
     "end_time": "2024-09-15T09:22:47.340873Z",
     "start_time": "2024-09-15T09:22:43.887407Z"
    }
   },
   "source": [
    "import tensorflow as tf\n",
    "from tensorflow.keras.preprocessing.image import ImageDataGenerator"
   ],
   "outputs": [],
   "execution_count": 1
  },
  {
   "cell_type": "code",
   "execution_count": 2,
   "id": "34db44bf08555347",
   "metadata": {
    "ExecuteTime": {
     "end_time": "2024-09-12T15:31:45.174561Z",
     "start_time": "2024-09-12T15:31:45.159070Z"
    }
   },
   "outputs": [],
   "source": [
    "train_datagen = ImageDataGenerator(rescale=1./255)"
   ]
  },
  {
   "cell_type": "code",
   "execution_count": 3,
   "id": "97efa400f5006c9c",
   "metadata": {
    "ExecuteTime": {
     "end_time": "2024-09-12T15:32:04.472216Z",
     "start_time": "2024-09-12T15:31:45.726412Z"
    }
   },
   "outputs": [
    {
     "name": "stdout",
     "output_type": "stream",
     "text": [
      "Found 375974 images belonging to 82 classes.\n"
     ]
    }
   ],
   "source": [
    "datagen = train_datagen.flow_from_directory('C:/Users/anhna/PycharmProjects/NLP/data/extracted_images', target_size=(64, 64), batch_size=32, class_mode='categorical',color_mode='grayscale')"
   ]
  },
  {
   "cell_type": "code",
   "execution_count": 4,
   "id": "897828b3de90a385",
   "metadata": {
    "ExecuteTime": {
     "end_time": "2024-09-12T15:33:34.044323Z",
     "start_time": "2024-09-12T15:33:14.374371Z"
    }
   },
   "outputs": [
    {
     "name": "stdout",
     "output_type": "stream",
     "text": [
      "Found 300813 images belonging to 82 classes.\n",
      "Found 75161 images belonging to 82 classes.\n"
     ]
    }
   ],
   "source": [
    "train_datagen = ImageDataGenerator(\n",
    "    rescale=1./255,\n",
    "    validation_split=0.2) # set validation split\n",
    "\n",
    "train_generator = train_datagen.flow_from_directory(\n",
    "    'C:/Users/anhna/PycharmProjects/NLP/data/extracted_images',\n",
    "    target_size=(45, 45),\n",
    "    batch_size=64,class_mode='categorical',color_mode='grayscale',\n",
    "    subset='training') # set as training data\n",
    "\n",
    "validation_generator = train_datagen.flow_from_directory(\n",
    "    'C:/Users/anhna/PycharmProjects/NLP/data/extracted_images',\n",
    "    target_size=(45, 45),\n",
    "    batch_size=64,class_mode='categorical',color_mode='grayscale',\n",
    "    subset='validation') # set as validation data"
   ]
  },
  {
   "cell_type": "code",
   "execution_count": 5,
   "id": "8cbea0be033ab403",
   "metadata": {
    "ExecuteTime": {
     "end_time": "2024-09-12T15:35:58.695376Z",
     "start_time": "2024-09-12T15:35:58.679577Z"
    }
   },
   "outputs": [],
   "source": [
    "cnn = tf.keras.models.Sequential()"
   ]
  },
  {
   "cell_type": "code",
   "execution_count": 6,
   "id": "44ef1834caa8aa29",
   "metadata": {
    "ExecuteTime": {
     "end_time": "2024-09-12T15:35:59.340985Z",
     "start_time": "2024-09-12T15:35:59.327820Z"
    }
   },
   "outputs": [
    {
     "name": "stderr",
     "output_type": "stream",
     "text": [
      "C:\\Users\\anhna\\AppData\\Roaming\\Python\\Python312\\site-packages\\keras\\src\\layers\\convolutional\\base_conv.py:107: UserWarning: Do not pass an `input_shape`/`input_dim` argument to a layer. When using Sequential models, prefer using an `Input(shape)` object as the first layer in the model instead.\n",
      "  super().__init__(activity_regularizer=activity_regularizer, **kwargs)\n"
     ]
    }
   ],
   "source": [
    "cnn.add(tf.keras.layers.Conv2D(filters=32,kernel_size=3,activation='relu',input_shape=[45,45,1]))"
   ]
  },
  {
   "cell_type": "code",
   "execution_count": 7,
   "id": "5e1c2b1bfcef9373",
   "metadata": {
    "ExecuteTime": {
     "end_time": "2024-09-12T15:35:59.972287Z",
     "start_time": "2024-09-12T15:35:59.956586Z"
    }
   },
   "outputs": [],
   "source": [
    "cnn.add(tf.keras.layers.MaxPooling2D(pool_size=2,strides=2))"
   ]
  },
  {
   "cell_type": "code",
   "execution_count": 8,
   "id": "d6dbfad8f4fdf568",
   "metadata": {
    "ExecuteTime": {
     "end_time": "2024-09-12T15:36:00.464283Z",
     "start_time": "2024-09-12T15:36:00.432981Z"
    }
   },
   "outputs": [],
   "source": [
    "cnn.add(tf.keras.layers.Conv2D(filters=32,kernel_size=(3,3),activation='relu',padding='same'))\n",
    "cnn.add(tf.keras.layers.MaxPooling2D(pool_size=2,strides=2))"
   ]
  },
  {
   "cell_type": "code",
   "execution_count": 9,
   "id": "dace399f4586796b",
   "metadata": {
    "ExecuteTime": {
     "end_time": "2024-09-12T15:36:00.914468Z",
     "start_time": "2024-09-12T15:36:00.883257Z"
    }
   },
   "outputs": [],
   "source": [
    "cnn.add(tf.keras.layers.Flatten())"
   ]
  },
  {
   "cell_type": "code",
   "execution_count": 10,
   "id": "aea7abba64bf3b0e",
   "metadata": {
    "ExecuteTime": {
     "end_time": "2024-09-12T15:36:01.408770Z",
     "start_time": "2024-09-12T15:36:01.377515Z"
    }
   },
   "outputs": [],
   "source": [
    "cnn.add(tf.keras.layers.Dense(units=256,activation='relu'))"
   ]
  },
  {
   "cell_type": "code",
   "execution_count": 11,
   "id": "1a88b3397bef516a",
   "metadata": {
    "ExecuteTime": {
     "end_time": "2024-09-12T15:36:01.772111Z",
     "start_time": "2024-09-12T15:36:01.740793Z"
    }
   },
   "outputs": [],
   "source": [
    "cnn.add(tf.keras.layers.Dense(units=128,activation='relu'))"
   ]
  },
  {
   "cell_type": "code",
   "execution_count": 12,
   "id": "fc4e0b2b098a194f",
   "metadata": {
    "ExecuteTime": {
     "end_time": "2024-09-12T15:36:02.228951Z",
     "start_time": "2024-09-12T15:36:02.197678Z"
    }
   },
   "outputs": [],
   "source": [
    "cnn.add(tf.keras.layers.Dense(units=82,activation='sigmoid'))"
   ]
  },
  {
   "cell_type": "code",
   "execution_count": 13,
   "id": "534117aaea2a9b38",
   "metadata": {
    "ExecuteTime": {
     "end_time": "2024-09-12T15:36:02.630027Z",
     "start_time": "2024-09-12T15:36:02.619348Z"
    }
   },
   "outputs": [],
   "source": "cnn.compile(optimizer='adam',loss='binary_crossentropy',metrics=['accuracy'])"
  },
  {
   "cell_type": "code",
   "execution_count": 14,
   "id": "b17b05b55c278f0",
   "metadata": {
    "ExecuteTime": {
     "start_time": "2024-09-12T15:36:03.349997Z"
    },
    "jupyter": {
     "is_executing": true
    }
   },
   "outputs": [
    {
     "name": "stdout",
     "output_type": "stream",
     "text": [
      "Epoch 1/10\n"
     ]
    },
    {
     "name": "stderr",
     "output_type": "stream",
     "text": [
      "C:\\Users\\anhna\\AppData\\Roaming\\Python\\Python312\\site-packages\\keras\\src\\trainers\\data_adapters\\py_dataset_adapter.py:122: UserWarning: Your `PyDataset` class should call `super().__init__(**kwargs)` in its constructor. `**kwargs` can include `workers`, `use_multiprocessing`, `max_queue_size`. Do not pass these arguments to `fit()`, as they will be ignored.\n",
      "  self._warn_if_super_not_called()\n"
     ]
    },
    {
     "name": "stdout",
     "output_type": "stream",
     "text": [
      "\u001B[1m4701/4701\u001B[0m \u001B[32m━━━━━━━━━━━━━━━━━━━━\u001B[0m\u001B[37m\u001B[0m \u001B[1m298s\u001B[0m 63ms/step - accuracy: 0.7245 - loss: 0.0267 - val_accuracy: 0.9301 - val_loss: 0.0057\n",
      "Epoch 2/10\n",
      "\u001B[1m4701/4701\u001B[0m \u001B[32m━━━━━━━━━━━━━━━━━━━━\u001B[0m\u001B[37m\u001B[0m \u001B[1m377s\u001B[0m 80ms/step - accuracy: 0.9356 - loss: 0.0053 - val_accuracy: 0.9549 - val_loss: 0.0039\n",
      "Epoch 3/10\n",
      "\u001B[1m4701/4701\u001B[0m \u001B[32m━━━━━━━━━━━━━━━━━━━━\u001B[0m\u001B[37m\u001B[0m \u001B[1m280s\u001B[0m 59ms/step - accuracy: 0.9597 - loss: 0.0034 - val_accuracy: 0.9674 - val_loss: 0.0028\n",
      "Epoch 4/10\n",
      "\u001B[1m4701/4701\u001B[0m \u001B[32m━━━━━━━━━━━━━━━━━━━━\u001B[0m\u001B[37m\u001B[0m \u001B[1m280s\u001B[0m 60ms/step - accuracy: 0.9736 - loss: 0.0023 - val_accuracy: 0.9780 - val_loss: 0.0020\n",
      "Epoch 5/10\n",
      "\u001B[1m4701/4701\u001B[0m \u001B[32m━━━━━━━━━━━━━━━━━━━━\u001B[0m\u001B[37m\u001B[0m \u001B[1m253s\u001B[0m 54ms/step - accuracy: 0.9811 - loss: 0.0017 - val_accuracy: 0.9831 - val_loss: 0.0015\n",
      "Epoch 6/10\n",
      "\u001B[1m4701/4701\u001B[0m \u001B[32m━━━━━━━━━━━━━━━━━━━━\u001B[0m\u001B[37m\u001B[0m \u001B[1m179s\u001B[0m 38ms/step - accuracy: 0.9854 - loss: 0.0013 - val_accuracy: 0.9852 - val_loss: 0.0014\n",
      "Epoch 7/10\n",
      "\u001B[1m4701/4701\u001B[0m \u001B[32m━━━━━━━━━━━━━━━━━━━━\u001B[0m\u001B[37m\u001B[0m \u001B[1m151s\u001B[0m 32ms/step - accuracy: 0.9881 - loss: 0.0011 - val_accuracy: 0.9874 - val_loss: 0.0012\n",
      "Epoch 8/10\n",
      "\u001B[1m4701/4701\u001B[0m \u001B[32m━━━━━━━━━━━━━━━━━━━━\u001B[0m\u001B[37m\u001B[0m \u001B[1m157s\u001B[0m 33ms/step - accuracy: 0.9895 - loss: 9.4083e-04 - val_accuracy: 0.9892 - val_loss: 0.0010\n",
      "Epoch 9/10\n",
      "\u001B[1m4701/4701\u001B[0m \u001B[32m━━━━━━━━━━━━━━━━━━━━\u001B[0m\u001B[37m\u001B[0m \u001B[1m156s\u001B[0m 33ms/step - accuracy: 0.9905 - loss: 8.3472e-04 - val_accuracy: 0.9906 - val_loss: 8.6392e-04\n",
      "Epoch 10/10\n",
      "\u001B[1m4701/4701\u001B[0m \u001B[32m━━━━━━━━━━━━━━━━━━━━\u001B[0m\u001B[37m\u001B[0m \u001B[1m152s\u001B[0m 32ms/step - accuracy: 0.9915 - loss: 7.6668e-04 - val_accuracy: 0.9927 - val_loss: 8.3392e-04\n"
     ]
    },
    {
     "data": {
      "text/plain": [
       "<keras.src.callbacks.history.History at 0x156b9c07410>"
      ]
     },
     "execution_count": 14,
     "metadata": {},
     "output_type": "execute_result"
    }
   ],
   "source": [
    "cnn.fit(x=train_generator ,validation_data=validation_generator,epochs=10)"
   ]
  },
  {
   "cell_type": "code",
   "execution_count": 17,
   "id": "9f7d5c34148f9162",
   "metadata": {},
   "outputs": [],
   "source": [
    "cnn.save('mnist_cnn_model.keras')"
   ]
  },
  {
   "cell_type": "code",
   "execution_count": null,
   "id": "76d30dc6-2d82-4712-8d54-6a871c5abea0",
   "metadata": {},
   "outputs": [],
   "source": "\n"
  }
 ],
 "metadata": {
  "kernelspec": {
   "display_name": "Python 3 (ipykernel)",
   "language": "python",
   "name": "python3"
  },
  "language_info": {
   "codemirror_mode": {
    "name": "ipython",
    "version": 3
   },
   "file_extension": ".py",
   "mimetype": "text/x-python",
   "name": "python",
   "nbconvert_exporter": "python",
   "pygments_lexer": "ipython3",
   "version": "3.12.3"
  }
 },
 "nbformat": 4,
 "nbformat_minor": 5
}
