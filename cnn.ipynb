{
 "cells": [
  {
   "cell_type": "code",
   "execution_count": 34,
   "id": "initial_id",
   "metadata": {
    "ExecuteTime": {
     "end_time": "2024-09-15T09:22:47.340873Z",
     "start_time": "2024-09-15T09:22:43.887407Z"
    }
   },
   "outputs": [],
   "source": [
    "import tensorflow as tf\n",
    "from tensorflow.keras.preprocessing.image import ImageDataGenerator"
   ]
  },
  {
   "cell_type": "code",
   "execution_count": 35,
   "id": "34db44bf08555347",
   "metadata": {
    "ExecuteTime": {
     "end_time": "2024-09-12T15:31:45.174561Z",
     "start_time": "2024-09-12T15:31:45.159070Z"
    }
   },
   "outputs": [],
   "source": [
    "train_datagen = ImageDataGenerator(rescale=1./255)"
   ]
  },
  {
   "cell_type": "code",
   "execution_count": 36,
   "id": "97efa400f5006c9c",
   "metadata": {
    "ExecuteTime": {
     "end_time": "2024-09-12T15:32:04.472216Z",
     "start_time": "2024-09-12T15:31:45.726412Z"
    }
   },
   "outputs": [
    {
     "name": "stdout",
     "output_type": "stream",
     "text": [
      "Found 245419 images belonging to 40 classes.\n"
     ]
    }
   ],
   "source": [
    "datagen = train_datagen.flow_from_directory('C:/Users/anhna/PycharmProjects/NLP/data/extracted_images', target_size=(64, 64), batch_size=32, class_mode='categorical',color_mode='grayscale')"
   ]
  },
  {
   "cell_type": "code",
   "execution_count": 37,
   "id": "897828b3de90a385",
   "metadata": {
    "ExecuteTime": {
     "end_time": "2024-09-12T15:33:34.044323Z",
     "start_time": "2024-09-12T15:33:14.374371Z"
    }
   },
   "outputs": [
    {
     "name": "stdout",
     "output_type": "stream",
     "text": [
      "Found 196352 images belonging to 40 classes.\n",
      "Found 49067 images belonging to 40 classes.\n"
     ]
    }
   ],
   "source": [
    "train_datagen = ImageDataGenerator(\n",
    "    rescale=1./255,\n",
    "    validation_split=0.2) # set validation split\n",
    "\n",
    "train_generator = train_datagen.flow_from_directory(\n",
    "    'C:/Users/anhna/PycharmProjects/NLP/data/extracted_images',\n",
    "    target_size=(45, 45),\n",
    "    batch_size=64,class_mode='categorical',color_mode='grayscale',\n",
    "    subset='training') # set as training data\n",
    "\n",
    "validation_generator = train_datagen.flow_from_directory(\n",
    "    'C:/Users/anhna/PycharmProjects/NLP/data/extracted_images',\n",
    "    target_size=(45, 45),\n",
    "    batch_size=64,class_mode='categorical',color_mode='grayscale',\n",
    "    subset='validation') # set as validation data"
   ]
  },
  {
   "cell_type": "code",
   "execution_count": 48,
   "id": "8cbea0be033ab403",
   "metadata": {
    "ExecuteTime": {
     "end_time": "2024-09-12T15:35:58.695376Z",
     "start_time": "2024-09-12T15:35:58.679577Z"
    }
   },
   "outputs": [],
   "source": [
    "cnn = tf.keras.models.Sequential()"
   ]
  },
  {
   "cell_type": "code",
   "execution_count": 49,
   "id": "44ef1834caa8aa29",
   "metadata": {
    "ExecuteTime": {
     "end_time": "2024-09-12T15:35:59.340985Z",
     "start_time": "2024-09-12T15:35:59.327820Z"
    }
   },
   "outputs": [],
   "source": [
    "cnn.add(tf.keras.layers.Conv2D(filters=32,kernel_size=3,activation='relu',input_shape=[45,45,1]))"
   ]
  },
  {
   "cell_type": "code",
   "execution_count": 50,
   "id": "5e1c2b1bfcef9373",
   "metadata": {
    "ExecuteTime": {
     "end_time": "2024-09-12T15:35:59.972287Z",
     "start_time": "2024-09-12T15:35:59.956586Z"
    }
   },
   "outputs": [],
   "source": [
    "cnn.add(tf.keras.layers.MaxPooling2D(pool_size=2,strides=2))"
   ]
  },
  {
   "cell_type": "code",
   "execution_count": 51,
   "id": "d6dbfad8f4fdf568",
   "metadata": {
    "ExecuteTime": {
     "end_time": "2024-09-12T15:36:00.464283Z",
     "start_time": "2024-09-12T15:36:00.432981Z"
    }
   },
   "outputs": [],
   "source": [
    "cnn.add(tf.keras.layers.Conv2D(filters=32,kernel_size=(3,3),activation='relu',padding='same'))\n",
    "cnn.add(tf.keras.layers.MaxPooling2D(pool_size=2,strides=2))"
   ]
  },
  {
   "cell_type": "code",
   "execution_count": 52,
   "id": "dace399f4586796b",
   "metadata": {
    "ExecuteTime": {
     "end_time": "2024-09-12T15:36:00.914468Z",
     "start_time": "2024-09-12T15:36:00.883257Z"
    }
   },
   "outputs": [],
   "source": [
    "cnn.add(tf.keras.layers.Flatten())"
   ]
  },
  {
   "cell_type": "code",
   "execution_count": 53,
   "id": "aea7abba64bf3b0e",
   "metadata": {
    "ExecuteTime": {
     "end_time": "2024-09-12T15:36:01.408770Z",
     "start_time": "2024-09-12T15:36:01.377515Z"
    }
   },
   "outputs": [],
   "source": [
    "cnn.add(tf.keras.layers.Dense(units=256,activation='relu'))"
   ]
  },
  {
   "cell_type": "code",
   "execution_count": 54,
   "id": "1a88b3397bef516a",
   "metadata": {
    "ExecuteTime": {
     "end_time": "2024-09-12T15:36:01.772111Z",
     "start_time": "2024-09-12T15:36:01.740793Z"
    }
   },
   "outputs": [],
   "source": [
    "cnn.add(tf.keras.layers.Dense(units=128,activation='relu'))"
   ]
  },
  {
   "cell_type": "code",
   "execution_count": 55,
   "id": "fc4e0b2b098a194f",
   "metadata": {
    "ExecuteTime": {
     "end_time": "2024-09-12T15:36:02.228951Z",
     "start_time": "2024-09-12T15:36:02.197678Z"
    }
   },
   "outputs": [],
   "source": [
    "cnn.add(tf.keras.layers.Dense(units=40,activation='sigmoid'))"
   ]
  },
  {
   "cell_type": "code",
   "execution_count": 56,
   "id": "534117aaea2a9b38",
   "metadata": {
    "ExecuteTime": {
     "end_time": "2024-09-12T15:36:02.630027Z",
     "start_time": "2024-09-12T15:36:02.619348Z"
    }
   },
   "outputs": [],
   "source": [
    "cnn.compile(optimizer='adam',loss='binary_crossentropy',metrics=['accuracy'])"
   ]
  },
  {
   "cell_type": "code",
   "execution_count": 57,
   "id": "b17b05b55c278f0",
   "metadata": {
    "ExecuteTime": {
     "start_time": "2024-09-12T15:36:03.349997Z"
    },
    "jupyter": {
     "is_executing": true
    }
   },
   "outputs": [
    {
     "name": "stdout",
     "output_type": "stream",
     "text": [
      "Epoch 1/10\n",
      "\u001b[1m3068/3068\u001b[0m \u001b[32m━━━━━━━━━━━━━━━━━━━━\u001b[0m\u001b[37m\u001b[0m \u001b[1m102s\u001b[0m 33ms/step - accuracy: 0.7870 - loss: 0.0378 - val_accuracy: 0.9608 - val_loss: 0.0067\n",
      "Epoch 2/10\n",
      "\u001b[1m3068/3068\u001b[0m \u001b[32m━━━━━━━━━━━━━━━━━━━━\u001b[0m\u001b[37m\u001b[0m \u001b[1m91s\u001b[0m 30ms/step - accuracy: 0.9650 - loss: 0.0061 - val_accuracy: 0.9771 - val_loss: 0.0040\n",
      "Epoch 3/10\n",
      "\u001b[1m3068/3068\u001b[0m \u001b[32m━━━━━━━━━━━━━━━━━━━━\u001b[0m\u001b[37m\u001b[0m \u001b[1m90s\u001b[0m 29ms/step - accuracy: 0.9768 - loss: 0.0040 - val_accuracy: 0.9808 - val_loss: 0.0033\n",
      "Epoch 4/10\n",
      "\u001b[1m3068/3068\u001b[0m \u001b[32m━━━━━━━━━━━━━━━━━━━━\u001b[0m\u001b[37m\u001b[0m \u001b[1m90s\u001b[0m 29ms/step - accuracy: 0.9831 - loss: 0.0029 - val_accuracy: 0.9850 - val_loss: 0.0027\n",
      "Epoch 5/10\n",
      "\u001b[1m3068/3068\u001b[0m \u001b[32m━━━━━━━━━━━━━━━━━━━━\u001b[0m\u001b[37m\u001b[0m \u001b[1m90s\u001b[0m 29ms/step - accuracy: 0.9872 - loss: 0.0022 - val_accuracy: 0.9874 - val_loss: 0.0023\n",
      "Epoch 6/10\n",
      "\u001b[1m3068/3068\u001b[0m \u001b[32m━━━━━━━━━━━━━━━━━━━━\u001b[0m\u001b[37m\u001b[0m \u001b[1m91s\u001b[0m 30ms/step - accuracy: 0.9898 - loss: 0.0018 - val_accuracy: 0.9919 - val_loss: 0.0014\n",
      "Epoch 7/10\n",
      "\u001b[1m3068/3068\u001b[0m \u001b[32m━━━━━━━━━━━━━━━━━━━━\u001b[0m\u001b[37m\u001b[0m \u001b[1m91s\u001b[0m 30ms/step - accuracy: 0.9921 - loss: 0.0013 - val_accuracy: 0.9911 - val_loss: 0.0019\n",
      "Epoch 8/10\n",
      "\u001b[1m3068/3068\u001b[0m \u001b[32m━━━━━━━━━━━━━━━━━━━━\u001b[0m\u001b[37m\u001b[0m \u001b[1m90s\u001b[0m 29ms/step - accuracy: 0.9932 - loss: 0.0012 - val_accuracy: 0.9942 - val_loss: 9.3429e-04\n",
      "Epoch 9/10\n",
      "\u001b[1m3068/3068\u001b[0m \u001b[32m━━━━━━━━━━━━━━━━━━━━\u001b[0m\u001b[37m\u001b[0m \u001b[1m92s\u001b[0m 30ms/step - accuracy: 0.9953 - loss: 8.7626e-04 - val_accuracy: 0.9941 - val_loss: 0.0011\n",
      "Epoch 10/10\n",
      "\u001b[1m3068/3068\u001b[0m \u001b[32m━━━━━━━━━━━━━━━━━━━━\u001b[0m\u001b[37m\u001b[0m \u001b[1m91s\u001b[0m 30ms/step - accuracy: 0.9957 - loss: 7.7378e-04 - val_accuracy: 0.9954 - val_loss: 8.4832e-04\n"
     ]
    },
    {
     "data": {
      "text/plain": [
       "<keras.src.callbacks.history.History at 0x25702842660>"
      ]
     },
     "execution_count": 57,
     "metadata": {},
     "output_type": "execute_result"
    }
   ],
   "source": [
    "cnn.fit(x=train_generator ,validation_data=validation_generator,epochs=10)"
   ]
  },
  {
   "cell_type": "code",
   "execution_count": 58,
   "id": "9f7d5c34148f9162",
   "metadata": {},
   "outputs": [],
   "source": [
    "cnn.save('mnist_cnn_model.keras')"
   ]
  },
  {
   "cell_type": "code",
   "execution_count": 59,
   "id": "76d30dc6-2d82-4712-8d54-6a871c5abea0",
   "metadata": {},
   "outputs": [
    {
     "ename": "NameError",
     "evalue": "name 'torch' is not defined",
     "output_type": "error",
     "traceback": [
      "\u001b[1;31m---------------------------------------------------------------------------\u001b[0m",
      "\u001b[1;31mNameError\u001b[0m                                 Traceback (most recent call last)",
      "Cell \u001b[1;32mIn[59], line 1\u001b[0m\n\u001b[1;32m----> 1\u001b[0m \u001b[38;5;28;01mclass\u001b[39;00m \u001b[38;5;21;01mCircleModelV0\u001b[39;00m(\u001b[43mtorch\u001b[49m\u001b[38;5;241m.\u001b[39mnn\u001b[38;5;241m.\u001b[39mModule):\n\u001b[0;32m      2\u001b[0m     \u001b[38;5;28;01mdef\u001b[39;00m \u001b[38;5;21m__init__\u001b[39m(\u001b[38;5;28mself\u001b[39m):\n\u001b[0;32m      3\u001b[0m         \u001b[38;5;28msuper\u001b[39m()\u001b[38;5;241m.\u001b[39m\u001b[38;5;21m__init__\u001b[39m()\n",
      "\u001b[1;31mNameError\u001b[0m: name 'torch' is not defined"
     ]
    }
   ],
   "source": [
    "class CircleModelV0(torch.nn.Module):\n",
    "    def __init__(self):\n",
    "        super().__init__()\n",
    "        self.layer_1 = torch.nn.Linear(in_features=2,out_features=10)\n",
    "        self.layer_2 = torch.nn.Linear(in_features=10,out_features=10)\n",
    "        self.layer_3 = torch.nn.Linear(in_features=10,out_features=1)\n",
    "        self.ReLu = torch.nn.ReLU()\n",
    "    def forward(self,x):\n",
    "        return self.layer_3(self.ReLu(self.layer_2(self.ReLu(self.layer_1(x)))))\n",
    "        "
   ]
  },
  {
   "cell_type": "code",
   "execution_count": 4,
   "id": "02ba096a-1388-487e-bc47-c5cb9a41146f",
   "metadata": {},
   "outputs": [],
   "source": [
    "import torch\n",
    "import torch.nn as nn\n",
    "import torch.optim as optim\n",
    "import numpy as np\n",
    "import matplotlib.pyplot as plt\n"
   ]
  },
  {
   "cell_type": "code",
   "execution_count": 17,
   "id": "ea980ef3-5721-4149-a803-73e2c9e4a466",
   "metadata": {},
   "outputs": [
    {
     "name": "stdout",
     "output_type": "stream",
     "text": [
      "torch.Size([1000, 50]) torch.Size([1000, 50])\n"
     ]
    }
   ],
   "source": [
    "# Generate sine wave data\n",
    "def generate_data(seq_length, num_samples):\n",
    "    X = []\n",
    "    y = []\n",
    "    for i in range(num_samples):\n",
    "        x = np.linspace(i * 2 * np.pi, (i + 1) * 2 * np.pi, seq_length + 1)\n",
    "        sine_wave = np.sin(x)\n",
    "        X.append(sine_wave[:-1])  # input sequence\n",
    "        y.append(sine_wave[1:])   # target sequence\n",
    "    return np.array(X), np.array(y)\n",
    "\n",
    "seq_length = 50\n",
    "num_samples = 1000\n",
    "X, y = generate_data(seq_length, num_samples)\n",
    "\n",
    "# Convert to PyTorch tensors\n",
    "X = torch.tensor(X, dtype=torch.float32)\n",
    "y = torch.tensor(y, dtype=torch.float32)\n",
    "\n",
    "print(X.shape, y.shape)  # Output: (1000, 50), (1000, 50)"
   ]
  },
  {
   "cell_type": "code",
   "execution_count": 18,
   "id": "d8f3e831-5c96-4a23-9842-eaa4bcc7245f",
   "metadata": {},
   "outputs": [],
   "source": [
    "class SimpleRNN(nn.Module):\n",
    "    def __init__(self, input_size, hidden_size, output_size):\n",
    "        super(SimpleRNN, self).__init__()\n",
    "        self.rnn = nn.RNN(input_size, hidden_size, batch_first=True)\n",
    "        \n",
    "        self.fc = nn.Linear(hidden_size, output_size)\n",
    "    \n",
    "    def forward(self, x):\n",
    "        h0 = torch.zeros(1, x.size(0), hidden_size).to(x.device)\n",
    "        out, _ = self.rnn(x, h0)\n",
    "        out = self.fc(out)\n",
    "        return out\n",
    "\n",
    "input_size = 1\n",
    "hidden_size = 20\n",
    "output_size = 1\n",
    "model = SimpleRNN(input_size, hidden_size, output_size)"
   ]
  },
  {
   "cell_type": "code",
   "execution_count": 20,
   "id": "5d8388dd-6de5-4131-82f7-93892ec433a6",
   "metadata": {},
   "outputs": [
    {
     "name": "stdout",
     "output_type": "stream",
     "text": [
      "Epoch [10/100], Loss: 0.5194\n",
      "Epoch [20/100], Loss: 0.4523\n",
      "Epoch [30/100], Loss: 0.3863\n",
      "Epoch [40/100], Loss: 0.3028\n",
      "Epoch [50/100], Loss: 0.1818\n",
      "Epoch [60/100], Loss: 0.0955\n",
      "Epoch [70/100], Loss: 0.0628\n",
      "Epoch [80/100], Loss: 0.0420\n",
      "Epoch [90/100], Loss: 0.0249\n",
      "Epoch [100/100], Loss: 0.0140\n"
     ]
    }
   ],
   "source": [
    "criterion = nn.MSELoss()\n",
    "optimizer = optim.Adam(model.parameters(), lr=0.001)\n",
    "\n",
    "# Training loop\n",
    "num_epochs = 100\n",
    "for epoch in range(num_epochs):\n",
    "    model.train()\n",
    "    outputs = model(X.unsqueeze(2))  # Add a dimension for input size\n",
    "    loss = criterion(outputs, y.unsqueeze(2))\n",
    "    \n",
    "    optimizer.zero_grad()\n",
    "    loss.backward()\n",
    "    optimizer.step()\n",
    "    \n",
    "    if (epoch + 1) % 10 == 0:\n",
    "        print(f'Epoch [{epoch+1}/{num_epochs}], Loss: {loss.item():.4f}')"
   ]
  },
  {
   "cell_type": "code",
   "execution_count": 21,
   "id": "a9895cbf-b70d-435d-a529-022f2e2f1093",
   "metadata": {},
   "outputs": [
    {
     "data": {
      "image/png": "[encoded data removed]",
      "text/plain": [
       "<Figure size 1000x600 with 1 Axes>"
      ]
     },
     "metadata": {},
     "output_type": "display_data"
    }
   ],
   "source": [
    "# Make predictions\n",
    "model.eval()\n",
    "with torch.no_grad():\n",
    "    predictions = model(X.unsqueeze(2)).squeeze(2).numpy()\n",
    "\n",
    "# Plot results\n",
    "plt.figure(figsize=(10, 6))\n",
    "plt.plot(y[0].numpy(), label='True')\n",
    "plt.plot(predictions[0], label='Predicted')\n",
    "plt.legend()\n",
    "plt.show()"
   ]
  },
  {
   "cell_type": "code",
   "execution_count": null,
   "id": "16e332be-fc96-4772-a673-afce68aa826f",
   "metadata": {},
   "outputs": [],
   "source": [
    "class SimpleRNN(nn.Module):\n",
    "    def __init__(self, input_size, hidden_size, output_size):\n",
    "        super(SimpleRNN, self).__init__()\n",
    "        self.rnn = nn.RNN(input_size, hidden_size, batch_first=True)\n",
    "        \n",
    "        self.fc = nn.Linear(hidden_size, output_size)\n",
    "    \n",
    "    def forward(self, x):\n",
    "        h0 = torch.zeros(1, x.size(0), hidden_size).to(x.device)\n",
    "        out, _ = self.rnn(x, h0)\n",
    "        out = self.fc(out)\n",
    "        return out\n",
    "\n",
    "input_size = 1\n",
    "hidden_size = 20\n",
    "output_size = 1\n",
    "model = SimpleRNN(input_size, hidden_size, output_size)"
   ]
  },
  {
   "cell_type": "code",
   "execution_count": 1,
   "id": "b5eece84-c319-4601-9a92-12774fa2f9ff",
   "metadata": {},
   "outputs": [],
   "source": [
    "from collections import Counter\n",
    " \n",
    "# This is going to be the dummy sentence :\n",
    "sentences = \"this is the second example showing for the article at gfg. and doing this is actually really fun\"\n",
    " \n",
    "words = sentences.split(' ')\n",
    " \n",
    "# create a dictionary\n",
    "vocab = Counter(words) \n",
    "vocab = sorted(vocab, key=vocab.get, reverse=True)\n",
    "vocab_size = len(vocab)\n",
    " \n",
    "# create a word to index dictionary from our Vocab dictionary\n",
    "word2idx = {word: ind for ind, word in enumerate(vocab)} \n",
    " \n",
    "encoded_sentences = [word2idx[word] for word in words]\n",
    " \n",
    "# assign a value to your embedding_dim\n",
    "e_dim = 5"
   ]
  },
  {
   "cell_type": "code",
   "execution_count": 2,
   "id": "78b9b109-0c7d-4f03-8876-be3f2473b6d7",
   "metadata": {},
   "outputs": [
    {
     "data": {
      "text/plain": [
       "[0, 1, 2, 3, 4, 5, 6, 2, 7, 8, 9, 10, 11, 0, 1, 12, 13, 14]"
      ]
     },
     "execution_count": 2,
     "metadata": {},
     "output_type": "execute_result"
    }
   ],
   "source": [
    "encoded_sentences"
   ]
  },
  {
   "cell_type": "code",
   "execution_count": 5,
   "id": "b0190ff2-3df4-4690-addf-c755eaf3d1a5",
   "metadata": {},
   "outputs": [
    {
     "name": "stdout",
     "output_type": "stream",
     "text": [
      "tensor([[ 1.3165,  0.8127,  0.9349, -2.0551,  0.1578],\n",
      "        [ 0.8104,  0.8225,  0.5760,  0.6371,  1.7113],\n",
      "        [-1.6016,  0.8552, -1.0237,  0.3824, -0.7874],\n",
      "        [ 0.0000,  0.0000,  0.0000,  0.0000,  0.0000],\n",
      "        [ 1.9700, -0.3235, -0.9591,  0.8140, -0.0718],\n",
      "        [ 1.3179, -0.3086, -2.8812, -0.3724, -1.6654],\n",
      "        [ 0.8589,  1.1203,  0.4415,  1.5596,  1.6780],\n",
      "        [-1.6016,  0.8552, -1.0237,  0.3824, -0.7874],\n",
      "        [ 0.7354,  1.0138, -0.5083,  0.8259,  0.3755],\n",
      "        [ 0.4732, -1.0635, -0.2287,  1.5396, -1.6309],\n",
      "        [ 1.1197, -0.7001,  1.8169,  0.0563, -2.1806],\n",
      "        [-0.0561,  0.8642,  1.1352,  0.9351,  0.6343],\n",
      "        [ 0.4777, -0.1249,  0.8795,  0.0645,  0.5804],\n",
      "        [ 1.3165,  0.8127,  0.9349, -2.0551,  0.1578],\n",
      "        [ 0.8104,  0.8225,  0.5760,  0.6371,  1.7113],\n",
      "        [-0.2193,  0.5323,  0.2457,  0.1456,  0.4586],\n",
      "        [ 0.0333,  0.4623, -0.6215, -0.5907, -0.8914],\n",
      "        [ 0.8838,  0.2715,  0.1835,  0.3987,  0.5923]],\n",
      "       grad_fn=<EmbeddingBackward0>)\n"
     ]
    }
   ],
   "source": [
    "from torch import nn\n",
    "# initialise an Embedding layer from Torch\n",
    "emb = nn.Embedding(vocab_size, e_dim, padding_idx = 3)\n",
    "word_vectors = emb(torch.LongTensor(encoded_sentences))\n",
    " \n",
    "#print the word_vectors\n",
    "print(word_vectors)"
   ]
  },
  {
   "cell_type": "code",
   "execution_count": null,
   "id": "c8dfbf26-dd8c-40e3-869e-656825ca5aea",
   "metadata": {},
   "outputs": [],
   "source": []
  }
 ],
 "metadata": {
  "kernelspec": {
   "display_name": "Python 3 (ipykernel)",
   "language": "python",
   "name": "python3"
  },
  "language_info": {
   "codemirror_mode": {
    "name": "ipython",
    "version": 3
   },
   "file_extension": ".py",
   "mimetype": "text/x-python",
   "name": "python",
   "nbconvert_exporter": "python",
   "pygments_lexer": "ipython3",
   "version": "3.12.4"
  }
 },
 "nbformat": 4,
 "nbformat_minor": 5
}
