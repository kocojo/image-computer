{
 "cells": [
  {
   "cell_type": "code",
   "execution_count": 7,
   "metadata": {},
   "outputs": [],
   "source": [
    "import os\n",
    "import pandas as pd\n",
    "from PIL import Image\n",
    "from sklearn.decomposition import PCA\n",
    "import numpy as np"
   ]
  },
  {
   "cell_type": "code",
   "execution_count": 4,
   "metadata": {},
   "outputs": [
    {
     "name": "stderr",
     "output_type": "stream",
     "text": [
      "<>:2: SyntaxWarning: invalid escape sequence '\\e'\n",
      "<>:2: SyntaxWarning: invalid escape sequence '\\e'\n",
      "C:\\Users\\anhna\\AppData\\Local\\Temp\\ipykernel_19124\\1237000731.py:2: SyntaxWarning: invalid escape sequence '\\e'\n",
      "  data_dir = f\"data\\extracted_images\"  # Set this to your data directory\n"
     ]
    }
   ],
   "source": [
    "# Define paths and parameters\n",
    "data_dir = f\"data\\extracted_images\"  # Set this to your data directory\n",
    "output_csv = 'output.csv'\n",
    "image_size = (45, 45)\n",
    "n_components = 10  # Set to the number of PCA components you want"
   ]
  },
  {
   "cell_type": "code",
   "execution_count": 10,
   "metadata": {},
   "outputs": [],
   "source": [
    "# Initialize PCA and DataFrame\n",
    "pca = PCA(n_components=n_components)\n",
    "images = []\n",
    "metadata = []"
   ]
  },
  {
   "cell_type": "code",
   "execution_count": 11,
   "metadata": {},
   "outputs": [
    {
     "name": "stdout",
     "output_type": "stream",
     "text": [
      "CSV file saved to output.csv\n"
     ]
    }
   ],
   "source": [
    "# Process each folder (label)\n",
    "for label in os.listdir(data_dir):\n",
    "    label_path = os.path.join(data_dir, label)\n",
    "    if not os.path.isdir(label_path):\n",
    "        continue\n",
    "    \n",
    "    # Process each image in the folder\n",
    "    for filename in os.listdir(label_path):\n",
    "        file_path = os.path.join(label_path, filename)\n",
    "        \n",
    "        # Open and resize the image, then flatten it\n",
    "        with Image.open(file_path) as img:\n",
    "            img = img.resize(image_size).convert('L')  # Resize and convert to grayscale\n",
    "            img_array = np.array(img).flatten()\n",
    "            images.append(img_array)  # Collect flattened images for PCA\n",
    "            \n",
    "            # Collect metadata for each image\n",
    "            file_size_kb = os.path.getsize(file_path) / 1024  # File size in KB\n",
    "            metadata.append([label, filename, file_size_kb])\n",
    "\n",
    "# Convert images to numpy array\n",
    "images_array = np.array(images)\n",
    "\n",
    "# Apply PCA to all images\n",
    "pca = PCA(n_components=n_components)\n",
    "pca_features = pca.fit_transform(images_array)\n",
    "\n",
    "# Combine metadata and PCA features into a single DataFrame\n",
    "columns = ['Label', 'File Name', 'File Size (KB)'] + [f'PC{i+1}' for i in range(n_components)]\n",
    "data = [meta + list(features) for meta, features in zip(metadata, pca_features)]\n",
    "df = pd.DataFrame(data, columns=columns)\n",
    "\n",
    "# Export to CSV\n",
    "df.to_csv(output_csv, index=False)\n",
    "print(f\"CSV file saved to {output_csv}\")"
   ]
  },
  {
   "cell_type": "code",
   "execution_count": null,
   "metadata": {},
   "outputs": [],
   "source": [
    "# Create DataFrame with column names\n",
    "columns = ['Label', 'File Name', 'File Size (KB)'] + [f'PC{i+1}' for i in range(n_components)]\n",
    "df = pd.DataFrame(data, columns=columns)"
   ]
  },
  {
   "cell_type": "code",
   "execution_count": null,
   "metadata": {},
   "outputs": [],
   "source": [
    "# Export to CSV\n",
    "df.to_csv(output_csv, index=False)\n",
    "print(f\"CSV file saved to {output_csv}\")\n"
   ]
  },
  {
   "cell_type": "code",
   "execution_count": null,
   "metadata": {},
   "outputs": [],
   "source": [
    "import pandas as pd\n",
    "from sklearn.model_selection import train_test_split\n",
    "from sklearn.ensemble import AdaBoostClassifier\n",
    "from sklearn.preprocessing import LabelEncoder\n",
    "from sklearn.metrics import accuracy_score, classification_report\n",
    "\n",
    "# Load the CSV file\n",
    "df = pd.read_csv('output_csv.csv')\n",
    "\n",
    "# Separate features and labels\n",
    "X = df[[f'PC{i+1}' for i in range(10)]]  # Adjust if using a different number of components\n",
    "y = df['Label']\n",
    "\n",
    "# Encode labels\n",
    "label_encoder = LabelEncoder()\n",
    "y_encoded = label_encoder.fit_transform(y)\n",
    "\n",
    "# Split data into training and testing sets\n",
    "X_train, X_test, y_train, y_test = train_test_split(X, y_encoded, test_size=0.3, random_state=42)\n",
    "\n",
    "# Initialize and train AdaBoost classifier\n",
    "adaboost = AdaBoostClassifier(n_estimators=50, random_state=42)\n",
    "adaboost.fit(X_train, y_train)\n",
    "\n",
    "# Make predictions on the test set\n",
    "y_pred = adaboost.predict(X_test)\n",
    "\n",
    "# Evaluate the model\n",
    "accuracy = accuracy_score(y_test, y_pred)\n",
    "report = classification_report(y_test, y_pred, target_names=label_encoder.classes_)\n",
    "\n",
    "print(f'Accuracy: {accuracy:.2f}')\n",
    "print('Classification Report:')\n",
    "print(report)\n",
    "\n"
   ]
  }
 ],
 "metadata": {
  "kernelspec": {
   "display_name": "base",
   "language": "python",
   "name": "python3"
  },
  "language_info": {
   "codemirror_mode": {
    "name": "ipython",
    "version": 3
   },
   "file_extension": ".py",
   "mimetype": "text/x-python",
   "name": "python",
   "nbconvert_exporter": "python",
   "pygments_lexer": "ipython3",
   "version": "3.12.4"
  }
 },
 "nbformat": 4,
 "nbformat_minor": 2
}
